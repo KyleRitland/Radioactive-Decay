{
 "cells": [
  {
   "cell_type": "code",
   "execution_count": null,
   "metadata": {
    "collapsed": true
   },
   "outputs": [],
   "source": [
    "def has_decimal(number):\n",
    "    \n",
    "    nmbr_str_lst = list(str(number))\n",
    "    \n",
    "    l = len(nmbr_str_lst)\n",
    "    \n",
    "    binary_lst_chk = [ 0 for i in range(l) ]\n",
    "    \n",
    "    for i in range(l):\n",
    "    \n",
    "        if nmbr_str_lst[i] == '.':\n",
    "            \n",
    "            binary_lst_chk[i] = 1\n",
    "            \n",
    "        else:\n",
    "            \n",
    "            binary_lst_chk[i] = 0\n",
    "            \n",
    "    return sum(binary_lst_chk)"
   ]
  }
 ],
 "metadata": {
  "kernelspec": {
   "display_name": "Python 3",
   "language": "python",
   "name": "python3"
  },
  "language_info": {
   "codemirror_mode": {
    "name": "ipython",
    "version": 3
   },
   "file_extension": ".py",
   "mimetype": "text/x-python",
   "name": "python",
   "nbconvert_exporter": "python",
   "pygments_lexer": "ipython3",
   "version": "3.6.0"
  }
 },
 "nbformat": 4,
 "nbformat_minor": 2
}
