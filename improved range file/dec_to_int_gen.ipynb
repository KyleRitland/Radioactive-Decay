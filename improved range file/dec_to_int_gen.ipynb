{
 "cells": [
  {
   "cell_type": "code",
   "execution_count": null,
   "metadata": {
    "collapsed": true
   },
   "outputs": [],
   "source": [
    "def dec_to_int_gen(number,rounder):\n",
    "    \n",
    "    if rounder == 0:\n",
    "    \n",
    "        rtrn_val = number\n",
    "        \n",
    "        rtrn_val_dec_l = 0\n",
    "        \n",
    "    elif rounder != 0:\n",
    "    \n",
    "        int_prt_l = len(str(number)) - ( rounder + 1 )  \n",
    "        \n",
    "        int_prt_val = int(''.join( list(str(number))[0:int_prt_l] ))\n",
    "        \n",
    "        frac_prt_lst = list(str(number))[(int_prt_l+1):]\n",
    "        \n",
    "        if int_prt_val == 0:\n",
    "            \n",
    "            rtrn_val = int(''.join( frac_prt_lst ))\n",
    "            \n",
    "        elif int_prt_val != 0:\n",
    "            \n",
    "            rtrn_val = int(''.join(( list(str(int_prt_val)) + frac_prt_lst )))\n",
    "            \n",
    "        rtrn_val_dec_l = len(frac_prt_lst)\n",
    "            \n",
    "    return rtrn_val , rtrn_val_dec_l\n",
    "            "
   ]
  }
 ],
 "metadata": {
  "kernelspec": {
   "display_name": "Python 3",
   "language": "python",
   "name": "python3"
  },
  "language_info": {
   "codemirror_mode": {
    "name": "ipython",
    "version": 3
   },
   "file_extension": ".py",
   "mimetype": "text/x-python",
   "name": "python",
   "nbconvert_exporter": "python",
   "pygments_lexer": "ipython3",
   "version": "3.6.0"
  }
 },
 "nbformat": 4,
 "nbformat_minor": 2
}
