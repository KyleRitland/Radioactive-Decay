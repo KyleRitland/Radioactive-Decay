{
 "cells": [
  {
   "cell_type": "code",
   "execution_count": null,
   "metadata": {
    "collapsed": true
   },
   "outputs": [],
   "source": [
    "def rounder_size(number):\n",
    "    \n",
    "    if has_decimal(number) == 0:\n",
    "        \n",
    "        rounder = 0\n",
    "        \n",
    "    elif has_decimal(number) != 0:\n",
    "    \n",
    "        nmbr_str_lst = list(str(number))\n",
    "    \n",
    "        index = nmbr_str_lst.index('.')\n",
    "    \n",
    "        rounder = len(nmbr_str_lst[index+1:])\n",
    "    \n",
    "    return rounder"
   ]
  }
 ],
 "metadata": {
  "kernelspec": {
   "display_name": "Python 3",
   "language": "python",
   "name": "python3"
  },
  "language_info": {
   "codemirror_mode": {
    "name": "ipython",
    "version": 3
   },
   "file_extension": ".py",
   "mimetype": "text/x-python",
   "name": "python",
   "nbconvert_exporter": "python",
   "pygments_lexer": "ipython3",
   "version": "3.6.0"
  }
 },
 "nbformat": 4,
 "nbformat_minor": 2
}
